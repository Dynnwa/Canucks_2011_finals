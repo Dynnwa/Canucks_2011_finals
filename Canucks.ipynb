{
 "cells": [
  {
   "cell_type": "code",
   "execution_count": 1,
   "metadata": {},
   "outputs": [
    {
     "name": "stdout",
     "output_type": "stream",
     "text": [
      "Collecting pulp\n",
      "  Using cached PuLP-2.4-py3-none-any.whl (40.6 MB)\n",
      "Collecting amply>=0.1.2\n",
      "  Using cached amply-0.1.4-py3-none-any.whl (16 kB)\n",
      "Requirement already satisfied: pyparsing in /opt/conda/lib/python3.8/site-packages (from amply>=0.1.2->pulp) (2.4.7)\n",
      "Collecting docutils>=0.3\n",
      "  Using cached docutils-0.17.1-py2.py3-none-any.whl (575 kB)\n",
      "Installing collected packages: docutils, amply, pulp\n",
      "Successfully installed amply-0.1.4 docutils-0.17.1 pulp-2.4\n"
     ]
    }
   ],
   "source": [
    "import sys\n",
    "!{sys.executable} -m pip install pulp "
   ]
  },
  {
   "cell_type": "code",
   "execution_count": 2,
   "metadata": {},
   "outputs": [],
   "source": [
    "import pulp\n",
    "from pulp import *"
   ]
  },
  {
   "cell_type": "code",
   "execution_count": 3,
   "metadata": {},
   "outputs": [],
   "source": [
    "players = ['pae', 'pce', 'pds', 'phs', 'prk', 'pdh','pkb', 'pms', 'pss', 'dh', 'ds', 'ab'\n",
    "           ,'ml', 'kb', 'rk', 'ar', 'ce', 'ae','kball', 'hs', 'ms', 'mr']\n",
    "\n",
    "goals = {'pae': 1/6, 'pce':1/6, 'pds':11/60, 'phs':11/60, 'prk':11/60, 'pdh':1/12,'pkb':7/60,\n",
    "         'pms':9/60, 'pss':9/60, 'dh':6/1451, 'ds':41/1521, 'ab':26/1226,\n",
    "         'ml':1/219, 'kb':6/1483, 'rk':41/1681, 'ar':1/975, 'ce':14/1895, 'ae':8/1237,\n",
    "         'kball':2/1034, 'hs':19/1579, 'ms':18/1247, 'mr':15/1106}\n",
    "\n",
    "powerPlaypos = {'pae': 1, 'pce':1, 'pds':1, \n",
    "                'phs':1, 'prk':1, 'pdh':1,'pkb':1,\n",
    "                'pms':1, 'pss':1, 'dh':0, 'ds':0, 'ab':0,\n",
    "         'ml':0, 'kb':0, 'rk':0, 'ar':0, 'ce':0, 'ae':0,\n",
    "         'kball':0, 'hs':0, 'ms':0, 'mr':0}\n",
    "\n",
    "powerPlayneg = {'pae': -1, 'pce':-1, 'pds':-1, \n",
    "                'phs':-1, 'prk':-1, 'pdh':-1,'pkb':-1,\n",
    "                'pms':-1, 'pss':-1, 'dh':0, 'ds':0, 'ab':0,\n",
    "         'ml':0, 'kb':0, 'rk':0, 'ar':0, 'ce':0, 'ae':0,\n",
    "         'kball':0, 'hs':0, 'ms':0, 'mr':0}\n",
    "\n",
    "penalty = {'pae': 0, 'pce':0, 'pds':0, \n",
    "                'phs':0, 'prk':0, 'pdh':0,'pkb':0,\n",
    "                'pms':0, 'pss':0, 'dh':0, 'ds':24/137, 'ab':28/131,\n",
    "           'ml':12/88, 'kb':14/175, \n",
    "           'rk':35/145, 'ar':19/38, 'ce':0, 'ae':0,\n",
    "         'kball':0, 'hs':0, 'ms':0, 'mr':0}\n",
    "\n",
    "blocks = {'pae': 0, 'pce':0, 'pds':0, \n",
    "                'phs':0, 'prk':0, 'pdh':0,'pkb':0,\n",
    "                'pms':0, 'pss':0,'ds':0,'ce':-108/1895, 'ae':-86/1239,\n",
    "           'dh':-89/1451, 'kb':-93/1483, \n",
    "           'kball':-111/1034, 'hs':0, 'ms':0, 'mr':0,'ab':0,'ml':0,'rk':0,'ar':0}\n",
    "\n",
    "hits = {'pae': 0, 'pce':0, 'pds':0, \n",
    "                'phs':0, 'prk':0, 'pdh':0,'pkb':0,\n",
    "                'pms':0, 'pss':0,'ds':0,'ce':-51/1895, 'ae':-83/1239,\n",
    "        'dh':-76/1451, 'kb':-104/1483, \n",
    "        'kball':-99/1034, 'hs':0, 'ms':0, 'mr':0,'ab':0,'ml':0,'rk':0,'ar':0}\n",
    "\n",
    "dsFatigue = {'ds':1, 'pds':1,'pae': 0, 'pce':0, \n",
    "                'phs':0, 'prk':0, 'pdh':0,'pkb':0,\n",
    "                'pms':0, 'pss':0, 'dh':0, 'ab':0,\n",
    "         'ml':0, 'kb':0, 'rk':0, 'ar':0, 'ce':0, 'ae':0,\n",
    "         'kball':0, 'hs':0, 'ms':0, 'mr':0}\n",
    "rkFatigue = {'ds':0, 'pds':0,'pae': 0, 'pce':0, \n",
    "                'phs':0, 'prk':1, 'pdh':0,'pkb':0,\n",
    "                'pms':0, 'pss':0, 'dh':0, 'ab':0,\n",
    "         'ml':0, 'kb':0, 'rk':1, 'ar':0, 'ce':0, 'ae':0,\n",
    "         'kball':0, 'hs':0, 'ms':0, 'mr':0}\n",
    "abFatigue = {'ds':0, 'pds':0,'pae': 0, 'pce':0, \n",
    "                'phs':0, 'prk':0, 'pdh':0,'pkb':0,\n",
    "                'pms':0, 'pss':0, 'dh':0, 'ab':1,\n",
    "         'ml':0, 'kb':0, 'rk':0, 'ar':0, 'ce':0, 'ae':0,\n",
    "         'kball':0, 'hs':0, 'ms':0, 'mr':0}\n",
    "hsFatigue = {'ds':0, 'pds':0,'pae': 0, 'pce':0, \n",
    "                'phs':1, 'prk':0, 'pdh':0,'pkb':0,\n",
    "                'pms':0, 'pss':0, 'dh':0, 'ab':0,\n",
    "         'ml':0, 'kb':0, 'rk':0, 'ar':0, 'ce':0, 'ae':0,\n",
    "         'kball':0, 'hs':1, 'ms':0, 'mr':0}\n",
    "msFatigue = {'ds':0, 'pds':0,'pae': 0, 'pce':0, \n",
    "                'phs':0, 'prk':0, 'pdh':0,'pkb':0,\n",
    "                'pms':1, 'pss':0, 'dh':0, 'ab':0,\n",
    "         'ml':0, 'kb':0, 'rk':0, 'ar':0, 'ce':0, 'ae':0,\n",
    "         'kball':0, 'hs':0, 'ms':1, 'mr':0}\n",
    "mrFatigue = {'ds':0, 'pds':0,'pae': 0, 'pce':0, \n",
    "                'phs':0, 'prk':0, 'pdh':0,'pkb':0,\n",
    "                'pms':0, 'pss':0, 'dh':0, 'ab':0,\n",
    "         'ml':0, 'kb':0, 'rk':0, 'ar':0, 'ce':0, 'ae':0,\n",
    "         'kball':0, 'hs':0, 'ms':0, 'mr':1}\n",
    "\n",
    "## new\n",
    "dhFatigue = {'ds':0, 'pds':0,'pae': 0, 'pce':0, \n",
    "                'phs':0, 'prk':0, 'pdh':0,'pkb':0,\n",
    "                'pms':1, 'pss':0, 'dh':1, 'ab':0,\n",
    "         'ml':0, 'kb':0, 'rk':0, 'ar':0, 'ce':0, 'ae':0,\n",
    "         'kball':0, 'hs':0, 'ms':0, 'mr':0}\n",
    "mlFatigue = {'ds':0, 'pds':0,'pae': 0, 'pce':0, \n",
    "                'phs':0, 'prk':0, 'pdh':0,'pkb':0,\n",
    "                'pms':0, 'pss':0, 'dh':0, 'ab':0,\n",
    "         'ml':1, 'kb':0, 'rk':0, 'ar':0, 'ce':0, 'ae':0,\n",
    "         'kball':0, 'hs':0, 'ms':0, 'mr':0}\n",
    "ceFatigue = {'ds':0, 'pds':0,'pae': 0, 'pce':0, \n",
    "                'phs':0, 'prk':0, 'pdh':0,'pkb':0,\n",
    "                'pms':0, 'pss':0, 'dh':0, 'ab':0,\n",
    "         'ml':0, 'kb':0, 'rk':0, 'ar':0, 'ce':1, 'ae':0,\n",
    "         'kball':0, 'hs':0, 'ms':0, 'mr':0}\n",
    "aeFatigue = {'ds':0, 'pds':0,'pae': 0, 'pce':0, \n",
    "                'phs':0, 'prk':0, 'pdh':0,'pkb':0,\n",
    "                'pms':0, 'pss':0, 'dh':0, 'ab':0,\n",
    "         'ml':0, 'kb':0, 'rk':0, 'ar':0, 'ce':0, 'ae':1,\n",
    "         'kball':0, 'hs':0, 'ms':0, 'mr':0}\n",
    "kbFatigue = {'ds':0, 'pds':0,'pae': 0, 'pce':0, \n",
    "                'phs':0, 'prk':0, 'pdh':0,'pkb':0,\n",
    "                'pms':0, 'pss':0, 'dh':0, 'ab':0,\n",
    "         'ml':0, 'kb':1, 'rk':0, 'ar':0, 'ce':0, 'ae':0,\n",
    "         'kball':0, 'hs':0, 'ms':0, 'mr':0}\n",
    "arplay = {'ds':0, 'pds':0,'pae': 0, 'pce':0, \n",
    "                'phs':0, 'prk':0, 'pdh':0,'pkb':0,\n",
    "                'pms':0, 'pss':0, 'dh':0, 'ab':0,\n",
    "         'ml':0, 'kb':0, 'rk':0, 'ar':1, 'ce':0, 'ae':0,\n",
    "         'kball':0, 'hs':0, 'ms':0, 'mr':0}\n",
    "kballplay = {'ds':0, 'pds':0,'pae': 0, 'pce':0, \n",
    "                'phs':0, 'prk':0, 'pdh':0,'pkb':0,\n",
    "                'pms':0, 'pss':0, 'dh':0, 'ab':0,\n",
    "         'ml':0, 'kb':0, 'rk':0, 'ar':0, 'ce':0, 'ae':0,\n",
    "         'kball':1, 'hs':0, 'ms':0, 'mr':0}\n",
    "\n",
    "pdsplay = {'ds':0, 'pds':1,'pae': 0, 'pce':0, \n",
    "                'phs':0, 'prk':0, 'pdh':0,'pkb':0,\n",
    "                'pms':0, 'pss':0, 'dh':0, 'ab':0,\n",
    "         'ml':0, 'kb':0, 'rk':0, 'ar':0, 'ce':0, 'ae':0,\n",
    "         'kball':0, 'hs':0, 'ms':0, 'mr':0}\n",
    "paeplay = {'ds':0, 'pds':0,'pae': 1, 'pce':0, \n",
    "                'phs':0, 'prk':0, 'pdh':0,'pkb':0,\n",
    "                'pms':0, 'pss':0, 'dh':0, 'ab':0,\n",
    "         'ml':0, 'kb':0, 'rk':0, 'ar':0, 'ce':0, 'ae':0,\n",
    "         'kball':0, 'hs':0, 'ms':0, 'mr':0}\n",
    "pceplay = {'ds':0, 'pds':0,'pae': 0, 'pce':1, \n",
    "                'phs':0, 'prk':0, 'pdh':0,'pkb':0,\n",
    "                'pms':0, 'pss':0, 'dh':0, 'ab':0,\n",
    "         'ml':0, 'kb':0, 'rk':0, 'ar':0, 'ce':0, 'ae':0,\n",
    "         'kball':0, 'hs':0, 'ms':0, 'mr':0}\n",
    "prkplay = {'ds':0, 'pds':0,'pae': 0, 'pce':0, \n",
    "                'phs':0, 'prk':1, 'pdh':0,'pkb':0,\n",
    "                'pms':0, 'pss':0, 'dh':0, 'ab':0,\n",
    "         'ml':0, 'kb':0, 'rk':0, 'ar':0, 'ce':0, 'ae':0,\n",
    "         'kball':0, 'hs':0, 'ms':0, 'mr':0}\n",
    "pdhplay = {'ds':0, 'pds':0,'pae': 0, 'pce':0, \n",
    "                'phs':0, 'prk':0, 'pdh':1,'pkb':0,\n",
    "                'pms':0, 'pss':0, 'dh':0, 'ab':0,\n",
    "         'ml':0, 'kb':0, 'rk':0, 'ar':0, 'ce':0, 'ae':0,\n",
    "         'kball':0, 'hs':0, 'ms':0, 'mr':0}\n",
    "pkbplay = {'ds':0, 'pds':0,'pae': 0, 'pce':0, \n",
    "                'phs':0, 'prk':0, 'pdh':0,'pkb':1,\n",
    "                'pms':0, 'pss':0, 'dh':0, 'ab':0,\n",
    "         'ml':0, 'kb':0, 'rk':0, 'ar':0, 'ce':0, 'ae':0,\n",
    "         'kball':0, 'hs':0, 'ms':0, 'mr':0}\n",
    "pmsplay = {'ds':0, 'pds':0,'pae': 0, 'pce':0, \n",
    "                'phs':0, 'prk':0, 'pdh':0,'pkb':0,\n",
    "                'pms':1, 'pss':0, 'dh':0, 'ab':0,\n",
    "         'ml':0, 'kb':0, 'rk':0, 'ar':0, 'ce':0, 'ae':0,\n",
    "         'kball':0, 'hs':0, 'ms':0, 'mr':0}\n",
    "pssplay = {'ds':0, 'pds':0,'pae': 0, 'pce':0, \n",
    "                'phs':0, 'prk':0, 'pdh':0,'pkb':0,\n",
    "                'pms':0, 'pss':1, 'dh':0, 'ab':0,\n",
    "         'ml':0, 'kb':0, 'rk':0, 'ar':0, 'ce':0, 'ae':0,\n",
    "         'kball':0, 'hs':0, 'ms':0, 'mr':0}\n",
    "\n",
    "\n",
    "prob = LpProblem(\"Vancouver_Canucks\", LpMaximize)\n",
    "player_vars = LpVariable.dicts(\"Players\", players, 0)"
   ]
  },
  {
   "cell_type": "markdown",
   "metadata": {},
   "source": [
    "# Objective function"
   ]
  },
  {
   "cell_type": "code",
   "execution_count": 4,
   "metadata": {},
   "outputs": [],
   "source": [
    "prob += lpSum([goals[p]*player_vars[p] for p in players]), \"Total points scored\"   "
   ]
  },
  {
   "cell_type": "markdown",
   "metadata": {},
   "source": [
    "# Constraints"
   ]
  },
  {
   "cell_type": "code",
   "execution_count": 5,
   "metadata": {},
   "outputs": [],
   "source": [
    "prob += lpSum([powerPlaypos[p]*player_vars[p] for p in players]) == 78, \"powerPlaypos\"\n",
    "#prob += lpSum([powerPlayneg[p]*player_vars[p] for p in players]) <= -91, \"powerPlayneg\"\n",
    "prob += lpSum([penalty[p]*player_vars[p] for p in players]) <= 119, \"penalty\"\n",
    "prob += lpSum([blocks[p]*player_vars[p] for p in players]) <= -29, \"blocks\"\n",
    "prob += lpSum([hits[p]*player_vars[p] for p in players]) <= -24.5, \"hits\"\n",
    "\n",
    "prob += lpSum([dsFatigue[p]*player_vars[p] for p in players]) <= 7*18, \"ds\"\n",
    "prob += lpSum([rkFatigue[p]*player_vars[p] for p in players]) <= 7*20, \"rk\"\n",
    "prob += lpSum([abFatigue[p]*player_vars[p] for p in players]) <= 7*17, \"ab\"\n",
    "prob += lpSum([hsFatigue[p]*player_vars[p] for p in players]) <= 7*19, \"hs\"\n",
    "prob += lpSum([msFatigue[p]*player_vars[p] for p in players]) <= 7*16, \"ms\"\n",
    "prob += lpSum([mrFatigue[p]*player_vars[p] for p in players]) <= 7*15, \"mr\""
   ]
  },
  {
   "cell_type": "code",
   "execution_count": 6,
   "metadata": {},
   "outputs": [],
   "source": [
    "## new constraints\n",
    "prob += lpSum([dhFatigue[p]*player_vars[p] for p in players]) <= 7*22, \"dh\"\n",
    "prob += lpSum([mlFatigue[p]*player_vars[p] for p in players]) <= 7*11, \"ml\"\n",
    "prob += lpSum([ceFatigue[p]*player_vars[p] for p in players]) <= 7*24, \"ce\"\n",
    "prob += lpSum([aeFatigue[p]*player_vars[p] for p in players]) <= 7*24, \"ae\"\n",
    "prob += lpSum([kbFatigue[p]*player_vars[p] for p in players]) <= 7*22, \"kb\"\n",
    "\n",
    "prob += lpSum([arplay[p]*player_vars[p] for p in players]) >= 10, \"ar\"\n",
    "prob += lpSum([kballplay[p]*player_vars[p] for p in players]) >= 10, \"kball\"\n",
    "\n",
    "prob += lpSum([paeplay[p]*player_vars[p] for p in players]) >= 10, \"pae\"\n",
    "prob += lpSum([pceplay[p]*player_vars[p] for p in players]) >= 10, \"pce\"\n",
    "prob += lpSum([pdhplay[p]*player_vars[p] for p in players]) >= 10, \"pdh\"\n",
    "prob += lpSum([pdsplay[p]*player_vars[p] for p in players]) >= 10, \"pds\"\n",
    "prob += lpSum([pkbplay[p]*player_vars[p] for p in players]) >= 10, \"pkb\"\n",
    "prob += lpSum([pmsplay[p]*player_vars[p] for p in players]) >= 10, \"pms\"\n",
    "prob += lpSum([prkplay[p]*player_vars[p] for p in players]) >= 10, \"prk\"\n",
    "prob += lpSum([pssplay[p]*player_vars[p] for p in players]) >= 10, \"pss\"\n"
   ]
  },
  {
   "cell_type": "code",
   "execution_count": 7,
   "metadata": {},
   "outputs": [
    {
     "name": "stdout",
     "output_type": "stream",
     "text": [
      "Vancouver_Canucks:\n",
      "MAXIMIZE\n",
      "0.021207177814029365*Players_ab + 0.0064672594987873885*Players_ae + 0.0010256410256410256*Players_ar + 0.007387862796833773*Players_ce + 0.004135079255685734*Players_dh + 0.02695595003287311*Players_ds + 0.012032932235592146*Players_hs + 0.004045853000674309*Players_kb + 0.0019342359767891683*Players_kball + 0.0045662100456621*Players_ml + 0.013562386980108499*Players_mr + 0.014434643143544507*Players_ms + 0.16666666666666666*Players_pae + 0.16666666666666666*Players_pce + 0.08333333333333333*Players_pdh + 0.18333333333333332*Players_pds + 0.18333333333333332*Players_phs + 0.11666666666666667*Players_pkb + 0.15*Players_pms + 0.18333333333333332*Players_prk + 0.15*Players_pss + 0.024390243902439025*Players_rk + 0.0\n",
      "SUBJECT TO\n",
      "powerPlaypos: Players_pae + Players_pce + Players_pdh + Players_pds\n",
      " + Players_phs + Players_pkb + Players_pms + Players_prk + Players_pss = 78\n",
      "\n",
      "penalty: 0.213740458015 Players_ab + 0.5 Players_ar\n",
      " + 0.175182481752 Players_ds + 0.08 Players_kb + 0.136363636364 Players_ml\n",
      " + 0.241379310345 Players_rk <= 119\n",
      "\n",
      "blocks: - 0.0694108151735 Players_ae - 0.0569920844327 Players_ce\n",
      " - 0.0613370089593 Players_dh - 0.0627107215105 Players_kb\n",
      " - 0.107350096712 Players_kball <= -29\n",
      "\n",
      "hits: - 0.0669895076675 Players_ae - 0.0269129287599 Players_ce\n",
      " - 0.052377670572 Players_dh - 0.0701281186784 Players_kb\n",
      " - 0.0957446808511 Players_kball <= -24.5\n",
      "\n",
      "ds: Players_ds + Players_pds <= 126\n",
      "\n",
      "rk: Players_prk + Players_rk <= 140\n",
      "\n",
      "ab: Players_ab <= 119\n",
      "\n",
      "hs: Players_hs + Players_phs <= 133\n",
      "\n",
      "ms: Players_ms + Players_pms <= 112\n",
      "\n",
      "mr: Players_mr <= 105\n",
      "\n",
      "dh: Players_dh + Players_pms <= 154\n",
      "\n",
      "ml: Players_ml <= 77\n",
      "\n",
      "ce: Players_ce <= 168\n",
      "\n",
      "ae: Players_ae <= 168\n",
      "\n",
      "kb: Players_kb <= 154\n",
      "\n",
      "ar: Players_ar >= 10\n",
      "\n",
      "kball: Players_kball >= 10\n",
      "\n",
      "pae: Players_pae >= 10\n",
      "\n",
      "pce: Players_pce >= 10\n",
      "\n",
      "pdh: Players_pdh >= 10\n",
      "\n",
      "pds: Players_pds >= 10\n",
      "\n",
      "pkb: Players_pkb >= 10\n",
      "\n",
      "pms: Players_pms >= 10\n",
      "\n",
      "prk: Players_prk >= 10\n",
      "\n",
      "pss: Players_pss >= 10\n",
      "\n",
      "VARIABLES\n",
      "Players_ab Continuous\n",
      "Players_ae Continuous\n",
      "Players_ar Continuous\n",
      "Players_ce Continuous\n",
      "Players_dh Continuous\n",
      "Players_ds Continuous\n",
      "Players_hs Continuous\n",
      "Players_kb Continuous\n",
      "Players_kball Continuous\n",
      "Players_ml Continuous\n",
      "Players_mr Continuous\n",
      "Players_ms Continuous\n",
      "Players_pae Continuous\n",
      "Players_pce Continuous\n",
      "Players_pdh Continuous\n",
      "Players_pds Continuous\n",
      "Players_phs Continuous\n",
      "Players_pkb Continuous\n",
      "Players_pms Continuous\n",
      "Players_prk Continuous\n",
      "Players_pss Continuous\n",
      "Players_rk Continuous\n",
      "\n"
     ]
    }
   ],
   "source": [
    "print(prob)"
   ]
  },
  {
   "cell_type": "markdown",
   "metadata": {},
   "source": [
    "# Solve the LP."
   ]
  },
  {
   "cell_type": "code",
   "execution_count": 8,
   "metadata": {},
   "outputs": [
    {
     "name": "stdout",
     "output_type": "stream",
     "text": [
      "Status: Infeasible\n"
     ]
    }
   ],
   "source": [
    "prob.solve()\n",
    "print(\"Status:\", LpStatus[prob.status])"
   ]
  },
  {
   "cell_type": "code",
   "execution_count": 9,
   "metadata": {},
   "outputs": [
    {
     "name": "stdout",
     "output_type": "stream",
     "text": [
      "Players_ab = 119.0\n",
      "Players_ae = 168.0\n",
      "Players_ar = 37.123297\n",
      "Players_ce = 168.0\n",
      "Players_dh = 144.0\n",
      "Players_ds = 116.0\n",
      "Players_hs = 133.0\n",
      "Players_kb = 154.0\n",
      "Players_kball = 10.0\n",
      "Players_ml = 77.0\n",
      "Players_mr = 105.0\n",
      "Players_ms = 102.0\n",
      "Players_pae = 10.0\n",
      "Players_pce = 10.0\n",
      "Players_pdh = 10.0\n",
      "Players_pds = 10.0\n",
      "Players_phs = 0.0\n",
      "Players_pkb = 10.0\n",
      "Players_pms = 10.0\n",
      "Players_prk = 8.0\n",
      "Players_pss = 10.0\n",
      "Players_rk = 132.0\n"
     ]
    }
   ],
   "source": [
    "for a in prob.variables():\n",
    "    print(a.name, \"=\", a.varValue)"
   ]
  },
  {
   "cell_type": "code",
   "execution_count": 10,
   "metadata": {},
   "outputs": [
    {
     "name": "stdout",
     "output_type": "stream",
     "text": [
      "Total Goals 28.955343143305818\n"
     ]
    }
   ],
   "source": [
    "print(\"Total Goals\", value(prob.objective))"
   ]
  },
  {
   "cell_type": "code",
   "execution_count": 11,
   "metadata": {},
   "outputs": [
    {
     "name": "stdout",
     "output_type": "stream",
     "text": [
      "powerplay\n",
      "Slack: -0.0\n",
      "Shadow: 0.15943823\n",
      "penalty\n",
      "Slack: -0.0\n",
      "Shadow: 0.0020512821\n",
      "blocks\n",
      "Slack: 11.799169\n",
      "Shadow: -0.0\n",
      "hits\n",
      "Slack: 10.575170999999997\n",
      "Shadow: -0.0\n"
     ]
    }
   ],
   "source": [
    "#Slack and Dual\n",
    "print(\"powerplay\")\n",
    "print(\"Slack:\", prob.constraints[\"powerPlaypos\"].slack)\n",
    "print(\"Shadow:\", prob.constraints[\"powerPlaypos\"].pi)\n",
    "\n",
    "print(\"penalty\")\n",
    "print(\"Slack:\", prob.constraints[\"penalty\"].slack)\n",
    "print(\"Shadow:\", prob.constraints[\"penalty\"].pi)\n",
    "\n",
    "print(\"blocks\")\n",
    "print(\"Slack:\", prob.constraints[\"blocks\"].slack)\n",
    "print(\"Shadow:\", prob.constraints[\"blocks\"].pi)\n",
    "\n",
    "print(\"hits\")\n",
    "print(\"Slack:\", prob.constraints[\"hits\"].slack)\n",
    "print(\"Shadow:\", prob.constraints[\"hits\"].pi)"
   ]
  },
  {
   "cell_type": "code",
   "execution_count": null,
   "metadata": {},
   "outputs": [],
   "source": []
  }
 ],
 "metadata": {
  "kernelspec": {
   "display_name": "Python 3",
   "language": "python",
   "name": "python3"
  },
  "language_info": {
   "codemirror_mode": {
    "name": "ipython",
    "version": 3
   },
   "file_extension": ".py",
   "mimetype": "text/x-python",
   "name": "python",
   "nbconvert_exporter": "python",
   "pygments_lexer": "ipython3",
   "version": "3.8.6"
  }
 },
 "nbformat": 4,
 "nbformat_minor": 4
}
